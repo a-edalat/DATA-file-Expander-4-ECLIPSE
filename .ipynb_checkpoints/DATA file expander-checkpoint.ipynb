{
 "cells": [
  {
   "cell_type": "code",
   "execution_count": null,
   "metadata": {},
   "outputs": [],
   "source": [
    "import os"
   ]
  },
  {
   "cell_type": "code",
   "execution_count": null,
   "metadata": {},
   "outputs": [],
   "source": [
    "file_name = 'DATA file name goes here'\n",
    "path = r'The path to the folder containing DATA file goes here'"
   ]
  },
  {
   "cell_type": "code",
   "execution_count": null,
   "metadata": {},
   "outputs": [],
   "source": [
    "if file_name[-5:] == '.DATA':\n",
    "    pass\n",
    "else:\n",
    "    ext_ind = file_name.find('.')  # Making sure the DATA file has the correct extension\n",
    "\n",
    "    if ext_ind > 0:\n",
    "        file_name = file_name[:ext_ind] + '.DATA'\n",
    "    else:\n",
    "        file_name = file_name + '.DATA'\n",
    "\n",
    "file = os.path.join(path, file_name)"
   ]
  },
  {
   "cell_type": "code",
   "execution_count": null,
   "metadata": {},
   "outputs": [],
   "source": [
    "final_file = []"
   ]
  },
  {
   "cell_type": "code",
   "execution_count": null,
   "metadata": {
    "scrolled": false
   },
   "outputs": [],
   "source": [
    "def expander(data_file):\n",
    "\n",
    "    flag = 0      # flags where include files\n",
    "    grid_flag = 0 # grid info can be excluded here so the final file is smaller and easier to work with\n",
    "                  # if grid files are needed set this number to any number except 0\n",
    "    include = os.path.join(path, data_file)\n",
    "        \n",
    "    with open(include, 'r') as inc:\n",
    "        for item in inc:\n",
    "            \n",
    "            if item[:7] == 'INCLUDE':\n",
    "                flag = 1\n",
    "                continue\n",
    "                    \n",
    "            elif flag == 1 and grid_flag != 1 and item[:2] != \"--\" and item[0] != '\\n':\n",
    "                loc  = item.find('/')     # finding the path to the include\n",
    "                item = item[:loc].strip() # removing spaces and new lines from the path\n",
    "                item = item.strip(\"'\")    # removing the qoutations from the path name\n",
    "                expander(item) # recursive function if there is other includes within this include\n",
    "                flag = 0       # flag back to zero so the lines can be writtern now\n",
    "                continue\n",
    "                        \n",
    "            elif item[:5] in ['COORD', 'ZCORN'] and grid_flag == 0:\n",
    "                grid_flag = 1\n",
    "                continue\n",
    "                \n",
    "            elif item.strip() == \"/\" and grid_flag == 1:\n",
    "                grid_flag = 0\n",
    "                continue\n",
    "            \n",
    "            elif grid_flag != 1:\n",
    "                final_file.append(item)\n",
    "                        \n",
    "    return final_file"
   ]
  },
  {
   "cell_type": "code",
   "execution_count": null,
   "metadata": {},
   "outputs": [],
   "source": [
    "with open(os.path.join(path, file_name[:-5]) + '_EXPANDED.DATA', 'w+') as output:\n",
    "    output.writelines(expander(file_name))\n",
    "\n",
    "print('You can check the expanded DATA file in the following path: ')\n",
    "print(os.path.join(path, file_name[:-5]) + '_EXPANDED.DATA')"
   ]
  }
 ],
 "metadata": {
  "kernelspec": {
   "display_name": "Python 3",
   "language": "python",
   "name": "python3"
  },
  "language_info": {
   "codemirror_mode": {
    "name": "ipython",
    "version": 3
   },
   "file_extension": ".py",
   "mimetype": "text/x-python",
   "name": "python",
   "nbconvert_exporter": "python",
   "pygments_lexer": "ipython3",
   "version": "3.7.4"
  }
 },
 "nbformat": 4,
 "nbformat_minor": 4
}
