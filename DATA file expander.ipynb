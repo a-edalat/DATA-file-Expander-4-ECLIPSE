{
 "cells": [
  {
   "cell_type": "code",
   "execution_count": 6,
   "metadata": {},
   "outputs": [],
   "source": [
    "import os"
   ]
  },
  {
   "cell_type": "code",
   "execution_count": 7,
   "metadata": {},
   "outputs": [],
   "source": [
    "file_name = 'VOLVE_2016.DATA'\n",
    "path = r'path to the folder containing the file'\n",
    "file = os.path.join(path, file_name)"
   ]
  },
  {
   "cell_type": "code",
   "execution_count": 8,
   "metadata": {},
   "outputs": [],
   "source": [
    "counter = 0\n",
    "final_file = []"
   ]
  },
  {
   "cell_type": "code",
   "execution_count": 9,
   "metadata": {
    "scrolled": false
   },
   "outputs": [],
   "source": [
    "def expander(data_file):\n",
    "    \n",
    "    flag = 0       # flags where include files\n",
    "    grid_flag = 0  # grid info can be excluded here so the final file is smaller and easier to work with\n",
    "                   # if grid files are needed set this number to any number except 0\n",
    "    include = os.path.join(path, data_file)\n",
    "        \n",
    "    with open(include, 'r') as inc:\n",
    "        for item in inc:\n",
    "            \n",
    "            if item[:7] == 'INCLUDE':\n",
    "                flag = 1\n",
    "                continue\n",
    "                    \n",
    "            elif flag == 1 and grid_flag != 1 and item[:2] != \"--\" and item[0] != '\\n':\n",
    "                loc  = item.find('/')     # finding the path to the include\n",
    "                item = item[:loc].strip() # removing spaces and new lines from the path\n",
    "                item = item.strip(\"'\")    # removing the qoutations from the path name\n",
    "                expander(item)        # recursive function if there is other includes within this include\n",
    "                flag = 0                  # flag back to zero so the lines can be writtern now\n",
    "                continue\n",
    "                        \n",
    "            elif item[:5] in ['COORD', 'ZCORN'] and grid_flag == 0:\n",
    "                grid_flag = 1\n",
    "                continue\n",
    "                \n",
    "            elif item.strip() == \"/\" and grid_flag == 1:\n",
    "                grid_flag = 0\n",
    "                continue\n",
    "            \n",
    "            elif grid_flag != 1:\n",
    "                final_file.append(item)\n",
    "                        \n",
    "    return final_file"
   ]
  },
  {
   "cell_type": "code",
   "execution_count": 10,
   "metadata": {},
   "outputs": [
    {
     "name": "stdout",
     "output_type": "stream",
     "text": [
      "complete\n"
     ]
    }
   ],
   "source": [
    "with open(file_name[:-5] + '_EXPANDED.DATA', 'w+') as output:\n",
    "    output.writelines(expander(file_name))\n",
    "\n",
    "print('complete')"
   ]
  }
 ],
 "metadata": {
  "kernelspec": {
   "display_name": "Python 3",
   "language": "python",
   "name": "python3"
  },
  "language_info": {
   "codemirror_mode": {
    "name": "ipython",
    "version": 3
   },
   "file_extension": ".py",
   "mimetype": "text/x-python",
   "name": "python",
   "nbconvert_exporter": "python",
   "pygments_lexer": "ipython3",
   "version": "3.7.6"
  }
 },
 "nbformat": 4,
 "nbformat_minor": 4
}
